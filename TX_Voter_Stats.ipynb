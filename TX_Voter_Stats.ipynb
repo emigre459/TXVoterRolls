{
 "cells": [
  {
   "cell_type": "markdown",
   "metadata": {},
   "source": [
    "# The Project\n",
    "\n",
    "This is a project I'm doing to parse Texas Secretary of State (SOS) voting files, develop automated cleaning scripts, identify missing fields/data and any patterns associated with that, and generally just do EDA through the whole thing.\n",
    "\n",
    "Specific ideas for this project include:\n",
    "\n",
    "* Want to have a way to pre-parse the SOS file to understand what data is in there / what might be missing.\n",
    "* Write script to summarize raw SOS file. Want to get the following:\n",
    "    1. Voters by county\n",
    "        * The largest geographical region\n",
    "    2. Voters by precinct\n",
    "        * Counties are made up of precincts\n",
    "    3. Voters by each of the [Congressional/state legislature] districts (by mapping back to precinct)\n",
    "        * Use the tx-data repo for mapping to these\n",
    "    4. Summarize missing fields\n",
    "    \n",
    "**I need to decide on the most useful way to store these data.** If the data are provided already aggregated at different levels geographically (and aren't just derived aggregations of the more resolved data), then I should push this all into a database ultimately for further analyses. However, I suspect that the data will need to be aggregated by hand, in which case a database won't be needed (would effectively be a single table if I didn't include derived data, which I wouldn't do). "
   ]
  },
  {
   "cell_type": "markdown",
   "metadata": {},
   "source": [
    "# The Data\n",
    "\n",
    "Oof, these are not the friendliest data files in the world. First, let's establish context.\n",
    "\n",
    "## *pir_sos_20180292*\n",
    "\n",
    "* **Disk size =** 24.9 MB\n",
    "* 36,607 records (254 county files)\n",
    "* **Context:** June 30th Special Election for TX Congressional District 27 House Representative records\n",
    "\n",
    "## *pir_sos_20180293*\n",
    "\n",
    "* **Disk size =** 10.56 GB\n",
    "* 15,531,645 records (254 county files)\n",
    "* **Context:** These are individual voting records. This is where I'll focus my attention until\n",
    "\n",
    "## *pir_sos_20180294*\n",
    "\n",
    "* **Disk size =** 6.9 MB\n",
    "* 10,101 records (13 county files)\n",
    "* **Context:** 5/22/18 Democratic Primary Runoff records\n",
    "\n",
    "## *pir_sos_20180302*\n",
    "\n",
    "* **Disk size =** 8.7 MB\n",
    "* 12,775 records (5 county files)\n",
    "* **Context:** 5/22/18 Republican Primary Runoff records\n",
    "\n",
    "\n",
    "It appears (from a quick view of the data) that these data files are comprised of fixed-width fields (not tab- or comma-delimited, in other words). Oh joy.\n",
    "\n",
    "## Data Fields             \n",
    "Most are self-explanatory (e.g. First Name), so here are only the ones needing some clarification:\n",
    "\n",
    "1. County FIPS Code: numeric designation for the county in question\n",
    "2. VUID: voter ID number\n",
    "3. Status Code: indicates if a voter's registration is active, suspended, or cancelled. See table at bottom for mapping\n",
    "4. Hispanic Surname Flag: Y = Yes\n",
    "    * Assuming here that Yes means the surname given is a Hispanic 3rd or 4th name (not clear which)\n",
    "5. Election Date: if data are related to a specific election, gives the date of that election here.\n",
    "    * Expect this to only be non-null when data files are for a specific election, not general voter rolls\n",
    "6. Election Type: e.g. \"general\", \"primary\", \"runoff\", etc. Table of mapped values at bottom.\n",
    "    * Expect this to only be non-null when data files are for a specific election, not general voter rolls\n",
    "7. Election Voting Method: e.g. Early in-person voting, election day vote, absentee ballot received, etc. Table of mapped values at bottom.\n",
    "    * Expect this to only be non-null when data files are for a specific election, not general voter rolls\n",
    "\n",
    "\n",
    "<br />\n",
    "<br />\n",
    "<center> Status Code Mappings </center>\n",
    "\n",
    "Code | Voter Registration Status\n",
    "--- | ---\n",
    "V | Active\n",
    "S | Suspense\n",
    "C | Cancelled\n",
    "\n",
    "<br />\n",
    "<br />\n",
    "<center> Election Type Mappings </center>\n",
    "\n",
    "Code | Election Type\n",
    "--- | ---\n",
    "GE | General\n",
    "CP | Primary\n",
    "RU | Runoff\n",
    "SE | Special\n",
    "LO | Local\n",
    "PO | Open Primary\n",
    "LR | Local Runoff\n",
    "\n",
    "<br />\n",
    "<br />\n",
    "<center> Election Voting Method Mappings </center>\n",
    "\n",
    "Code | Voting Method\n",
    "--- | ---\n",
    "EV | Early Voting In-Person\n",
    "ED | Election Day\n",
    "AX | Absentee Ballot Rejected\n",
    "AV | Absentee Ballot Accepted\n",
    "AB | Absentee Ballot Received\n",
    "PB | Provisional Ballot Accepted\n",
    "PX | Provisional Ballot Rejected"
   ]
  },
  {
   "cell_type": "code",
   "execution_count": 1,
   "metadata": {},
   "outputs": [],
   "source": [
    "import pandas as pd\n",
    "import geopandas as gpd\n",
    "import numpy as np\n",
    "import matplotlib as plt\n",
    "import seaborn as sns"
   ]
  },
  {
   "cell_type": "code",
   "execution_count": 2,
   "metadata": {},
   "outputs": [],
   "source": [
    "status_code_dict = {'V': 'Active', 'S': 'Suspense', 'C': 'Cancelled'}\n",
    "\n",
    "election_type_dict = {'GE': 'General', 'CP': 'Primary', 'RU': 'Runoff', 'SE': 'Special',\n",
    "                      'LO': 'Local', 'PO': 'Open Primary', 'LR': 'Local Runoff'}\n",
    "\n",
    "voting_method_dict = {'EV': 'Early Voting In-Person', \n",
    "                      'ED': 'Election Day', \n",
    "                      'AX': 'Absentee Ballot Rejected', \n",
    "                      'AV': 'Absentee Ballot Accepted',\n",
    "                      'AB': 'Absentee Ballot Received', \n",
    "                      'PB': 'Provisional Ballot Accepted', \n",
    "                      'PX': 'Provisional Ballot Rejected'}"
   ]
  },
  {
   "cell_type": "code",
   "execution_count": 3,
   "metadata": {
    "scrolled": false
   },
   "outputs": [
    {
     "name": "stdout",
     "output_type": "stream",
     "text": [
      "Number of unsuccessfully merged records = 6341\n",
      "Percentage of all records successfully merged with geographic crosswalk data = 0.04082632586567617%\n"
     ]
    }
   ],
   "source": [
    "import voter_data_processing as vdp\n",
    "\n",
    "voters = vdp.import_voter_data('Data/General_Voter_Rolls/', 'Data/TX_all-geography-overlap.csv')"
   ]
  },
  {
   "cell_type": "code",
   "execution_count": 4,
   "metadata": {
    "scrolled": true
   },
   "outputs": [
    {
     "data": {
      "text/html": [
       "<div>\n",
       "<style scoped>\n",
       "    .dataframe tbody tr th:only-of-type {\n",
       "        vertical-align: middle;\n",
       "    }\n",
       "\n",
       "    .dataframe tbody tr th {\n",
       "        vertical-align: top;\n",
       "    }\n",
       "\n",
       "    .dataframe thead th {\n",
       "        text-align: right;\n",
       "    }\n",
       "</style>\n",
       "<table border=\"1\" class=\"dataframe\">\n",
       "  <thead>\n",
       "    <tr style=\"text-align: right;\">\n",
       "      <th></th>\n",
       "      <th>total missing</th>\n",
       "      <th>percent missing</th>\n",
       "    </tr>\n",
       "  </thead>\n",
       "  <tbody>\n",
       "    <tr>\n",
       "      <th>State County Code</th>\n",
       "      <td>0</td>\n",
       "      <td>0.000000e+00</td>\n",
       "    </tr>\n",
       "    <tr>\n",
       "      <th>Precinct Name</th>\n",
       "      <td>0</td>\n",
       "      <td>0.000000e+00</td>\n",
       "    </tr>\n",
       "    <tr>\n",
       "      <th>VUID (Voter ID)</th>\n",
       "      <td>0</td>\n",
       "      <td>0.000000e+00</td>\n",
       "    </tr>\n",
       "    <tr>\n",
       "      <th>Last Name</th>\n",
       "      <td>553</td>\n",
       "      <td>3.560473e-05</td>\n",
       "    </tr>\n",
       "    <tr>\n",
       "      <th>First Name</th>\n",
       "      <td>49</td>\n",
       "      <td>3.154849e-06</td>\n",
       "    </tr>\n",
       "    <tr>\n",
       "      <th>Middle Name</th>\n",
       "      <td>2250879</td>\n",
       "      <td>1.449221e-01</td>\n",
       "    </tr>\n",
       "    <tr>\n",
       "      <th>Former Last Name</th>\n",
       "      <td>13629210</td>\n",
       "      <td>8.775123e-01</td>\n",
       "    </tr>\n",
       "    <tr>\n",
       "      <th>Suffix</th>\n",
       "      <td>14888292</td>\n",
       "      <td>9.585779e-01</td>\n",
       "    </tr>\n",
       "    <tr>\n",
       "      <th>Gender</th>\n",
       "      <td>0</td>\n",
       "      <td>0.000000e+00</td>\n",
       "    </tr>\n",
       "    <tr>\n",
       "      <th>Date of Birth</th>\n",
       "      <td>23</td>\n",
       "      <td>1.480848e-06</td>\n",
       "    </tr>\n",
       "    <tr>\n",
       "      <th>Perm House Number</th>\n",
       "      <td>22960</td>\n",
       "      <td>1.478272e-03</td>\n",
       "    </tr>\n",
       "    <tr>\n",
       "      <th>Perm Designator</th>\n",
       "      <td>15502804</td>\n",
       "      <td>9.981431e-01</td>\n",
       "    </tr>\n",
       "    <tr>\n",
       "      <th>Perm Directional Prefix</th>\n",
       "      <td>13899763</td>\n",
       "      <td>8.949318e-01</td>\n",
       "    </tr>\n",
       "    <tr>\n",
       "      <th>Perm Street Name</th>\n",
       "      <td>917</td>\n",
       "      <td>5.904075e-05</td>\n",
       "    </tr>\n",
       "    <tr>\n",
       "      <th>Perm Street Type</th>\n",
       "      <td>2288435</td>\n",
       "      <td>1.473402e-01</td>\n",
       "    </tr>\n",
       "    <tr>\n",
       "      <th>Perm Directional Suffix</th>\n",
       "      <td>15205459</td>\n",
       "      <td>9.789986e-01</td>\n",
       "    </tr>\n",
       "    <tr>\n",
       "      <th>Perm Unit Number</th>\n",
       "      <td>13423434</td>\n",
       "      <td>8.642635e-01</td>\n",
       "    </tr>\n",
       "    <tr>\n",
       "      <th>Perm Unit Type</th>\n",
       "      <td>14474563</td>\n",
       "      <td>9.319401e-01</td>\n",
       "    </tr>\n",
       "    <tr>\n",
       "      <th>Perm City</th>\n",
       "      <td>13619</td>\n",
       "      <td>8.768550e-04</td>\n",
       "    </tr>\n",
       "    <tr>\n",
       "      <th>Perm ZIP Code</th>\n",
       "      <td>0</td>\n",
       "      <td>0.000000e+00</td>\n",
       "    </tr>\n",
       "    <tr>\n",
       "      <th>Mailing Address 1</th>\n",
       "      <td>5</td>\n",
       "      <td>3.219234e-07</td>\n",
       "    </tr>\n",
       "    <tr>\n",
       "      <th>Mailing Address 2</th>\n",
       "      <td>15053414</td>\n",
       "      <td>9.692092e-01</td>\n",
       "    </tr>\n",
       "    <tr>\n",
       "      <th>Mailing City</th>\n",
       "      <td>18</td>\n",
       "      <td>1.158924e-06</td>\n",
       "    </tr>\n",
       "    <tr>\n",
       "      <th>Mailing State</th>\n",
       "      <td>552</td>\n",
       "      <td>3.554034e-05</td>\n",
       "    </tr>\n",
       "    <tr>\n",
       "      <th>Mailing ZIP Code</th>\n",
       "      <td>1093</td>\n",
       "      <td>7.037246e-05</td>\n",
       "    </tr>\n",
       "    <tr>\n",
       "      <th>EDR</th>\n",
       "      <td>35</td>\n",
       "      <td>2.253464e-06</td>\n",
       "    </tr>\n",
       "    <tr>\n",
       "      <th>Status Code</th>\n",
       "      <td>0</td>\n",
       "      <td>0.000000e+00</td>\n",
       "    </tr>\n",
       "    <tr>\n",
       "      <th>Hispanic Surname Flag</th>\n",
       "      <td>11849249</td>\n",
       "      <td>7.629101e-01</td>\n",
       "    </tr>\n",
       "    <tr>\n",
       "      <th>Election Date</th>\n",
       "      <td>15531645</td>\n",
       "      <td>1.000000e+00</td>\n",
       "    </tr>\n",
       "    <tr>\n",
       "      <th>Election Type</th>\n",
       "      <td>15531645</td>\n",
       "      <td>1.000000e+00</td>\n",
       "    </tr>\n",
       "    <tr>\n",
       "      <th>Election Party</th>\n",
       "      <td>15531645</td>\n",
       "      <td>1.000000e+00</td>\n",
       "    </tr>\n",
       "    <tr>\n",
       "      <th>Election Voting Method</th>\n",
       "      <td>15531645</td>\n",
       "      <td>1.000000e+00</td>\n",
       "    </tr>\n",
       "    <tr>\n",
       "      <th>Precinct ID</th>\n",
       "      <td>13285</td>\n",
       "      <td>8.553505e-04</td>\n",
       "    </tr>\n",
       "    <tr>\n",
       "      <th>State House District</th>\n",
       "      <td>6341</td>\n",
       "      <td>4.082633e-04</td>\n",
       "    </tr>\n",
       "    <tr>\n",
       "      <th>State Senate District</th>\n",
       "      <td>6341</td>\n",
       "      <td>4.082633e-04</td>\n",
       "    </tr>\n",
       "    <tr>\n",
       "      <th>US Congressional District</th>\n",
       "      <td>6341</td>\n",
       "      <td>4.082633e-04</td>\n",
       "    </tr>\n",
       "    <tr>\n",
       "      <th>_merge</th>\n",
       "      <td>0</td>\n",
       "      <td>0.000000e+00</td>\n",
       "    </tr>\n",
       "  </tbody>\n",
       "</table>\n",
       "</div>"
      ],
      "text/plain": [
       "                           total missing  percent missing\n",
       "State County Code                      0     0.000000e+00\n",
       "Precinct Name                          0     0.000000e+00\n",
       "VUID (Voter ID)                        0     0.000000e+00\n",
       "Last Name                            553     3.560473e-05\n",
       "First Name                            49     3.154849e-06\n",
       "Middle Name                      2250879     1.449221e-01\n",
       "Former Last Name                13629210     8.775123e-01\n",
       "Suffix                          14888292     9.585779e-01\n",
       "Gender                                 0     0.000000e+00\n",
       "Date of Birth                         23     1.480848e-06\n",
       "Perm House Number                  22960     1.478272e-03\n",
       "Perm Designator                 15502804     9.981431e-01\n",
       "Perm Directional Prefix         13899763     8.949318e-01\n",
       "Perm Street Name                     917     5.904075e-05\n",
       "Perm Street Type                 2288435     1.473402e-01\n",
       "Perm Directional Suffix         15205459     9.789986e-01\n",
       "Perm Unit Number                13423434     8.642635e-01\n",
       "Perm Unit Type                  14474563     9.319401e-01\n",
       "Perm City                          13619     8.768550e-04\n",
       "Perm ZIP Code                          0     0.000000e+00\n",
       "Mailing Address 1                      5     3.219234e-07\n",
       "Mailing Address 2               15053414     9.692092e-01\n",
       "Mailing City                          18     1.158924e-06\n",
       "Mailing State                        552     3.554034e-05\n",
       "Mailing ZIP Code                    1093     7.037246e-05\n",
       "EDR                                   35     2.253464e-06\n",
       "Status Code                            0     0.000000e+00\n",
       "Hispanic Surname Flag           11849249     7.629101e-01\n",
       "Election Date                   15531645     1.000000e+00\n",
       "Election Type                   15531645     1.000000e+00\n",
       "Election Party                  15531645     1.000000e+00\n",
       "Election Voting Method          15531645     1.000000e+00\n",
       "Precinct ID                        13285     8.553505e-04\n",
       "State House District                6341     4.082633e-04\n",
       "State Senate District               6341     4.082633e-04\n",
       "US Congressional District           6341     4.082633e-04\n",
       "_merge                                 0     0.000000e+00"
      ]
     },
     "execution_count": 4,
     "metadata": {},
     "output_type": "execute_result"
    }
   ],
   "source": [
    "missing = vdp.calculate_missing(voters)\n",
    "missing"
   ]
  },
  {
   "cell_type": "markdown",
   "metadata": {},
   "source": [
    "**Since there's no obvious pattern to the Precinct Names that didn't merge, and the number of unsuccessfully merged records are 0.04% of the total record count, we're going to call this good!**"
   ]
  },
  {
   "cell_type": "code",
   "execution_count": 5,
   "metadata": {
    "scrolled": true
   },
   "outputs": [
    {
     "name": "stdout",
     "output_type": "stream",
     "text": [
      "<class 'pandas.core.frame.DataFrame'>\n",
      "Int64Index: 15531645 entries, 0 to 15531644\n",
      "Data columns (total 37 columns):\n",
      "State County Code            int16\n",
      "Precinct Name                object\n",
      "VUID (Voter ID)              int64\n",
      "Last Name                    object\n",
      "First Name                   object\n",
      "Middle Name                  object\n",
      "Former Last Name             object\n",
      "Suffix                       category\n",
      "Gender                       category\n",
      "Date of Birth                datetime64[ns]\n",
      "Perm House Number            float32\n",
      "Perm Designator              category\n",
      "Perm Directional Prefix      category\n",
      "Perm Street Name             object\n",
      "Perm Street Type             category\n",
      "Perm Directional Suffix      category\n",
      "Perm Unit Number             object\n",
      "Perm Unit Type               category\n",
      "Perm City                    category\n",
      "Perm ZIP Code                category\n",
      "Mailing Address 1            object\n",
      "Mailing Address 2            object\n",
      "Mailing City                 category\n",
      "Mailing State                category\n",
      "Mailing ZIP Code             category\n",
      "EDR                          datetime64[ns]\n",
      "Status Code                  category\n",
      "Hispanic Surname Flag        category\n",
      "Election Date                float32\n",
      "Election Type                float32\n",
      "Election Party               float32\n",
      "Election Voting Method       float32\n",
      "Precinct ID                  float32\n",
      "State House District         float32\n",
      "State Senate District        float32\n",
      "US Congressional District    float32\n",
      "_merge                       category\n",
      "dtypes: category(15), datetime64[ns](2), float32(9), int16(1), int64(1), object(9)\n",
      "memory usage: 8.5 GB\n"
     ]
    }
   ],
   "source": [
    "voters.info(memory_usage = 'deep')"
   ]
  },
  {
   "cell_type": "code",
   "execution_count": 6,
   "metadata": {},
   "outputs": [
    {
     "data": {
      "text/plain": [
       "Index(['State County Code', 'Precinct Name', 'VUID (Voter ID)', 'Last Name',\n",
       "       'First Name', 'Middle Name', 'Former Last Name', 'Suffix', 'Gender',\n",
       "       'Date of Birth', 'Perm House Number', 'Perm Designator',\n",
       "       'Perm Directional Prefix', 'Perm Street Name', 'Perm Street Type',\n",
       "       'Perm Directional Suffix', 'Perm Unit Number', 'Perm Unit Type',\n",
       "       'Perm City', 'Perm ZIP Code', 'Mailing Address 1', 'Mailing Address 2',\n",
       "       'Mailing City', 'Mailing State', 'Mailing ZIP Code', 'EDR',\n",
       "       'Status Code', 'Hispanic Surname Flag', 'Election Date',\n",
       "       'Election Type', 'Election Party', 'Election Voting Method',\n",
       "       'Precinct ID', 'State House District', 'State Senate District',\n",
       "       'US Congressional District', '_merge'],\n",
       "      dtype='object')"
      ]
     },
     "execution_count": 6,
     "metadata": {},
     "output_type": "execute_result"
    }
   ],
   "source": [
    "voters.columns"
   ]
  },
  {
   "cell_type": "code",
   "execution_count": 7,
   "metadata": {},
   "outputs": [],
   "source": [
    "#Drop all extraneous data we don't need for analysis - e.g. Name-related data, street addresses, etc.\n",
    "voters.drop(columns = ['State County Code', 'Precinct Name', 'VUID (Voter ID)', 'Last Name',\n",
    "                       'First Name', 'Middle Name', 'Former Last Name', 'Suffix',\n",
    "                       'Perm House Number', 'Perm Designator', 'Perm Directional Prefix', \n",
    "                       'Perm Street Name', 'Perm Street Type', 'Perm Directional Suffix', \n",
    "                       'Perm Unit Number', 'Perm Unit Type', 'Perm City', 'Mailing Address 1', \n",
    "                       'Mailing Address 2', 'Mailing City', 'Mailing State', 'Election Date',\n",
    "                       'Election Type', 'Election Party', 'Election Voting Method',\n",
    "                       'State House District', 'State Senate District',\n",
    "                       'Hispanic Surname Flag'], inplace = True)"
   ]
  },
  {
   "cell_type": "code",
   "execution_count": 8,
   "metadata": {},
   "outputs": [],
   "source": [
    "#voter_counts = vdp.counts_by_geography(voters, folder = None)\n",
    "#voter_counts['Precinct ID']"
   ]
  },
  {
   "cell_type": "markdown",
   "metadata": {},
   "source": [
    "**Note:** there are approximately 15.5M records here. It's not currently clear how many of them are unique and active, but if they are all unique this represents approximately 54.9% of the TX population (out of an estimated [28,304,596 people](https://en.wikipedia.org/wiki/Texas))."
   ]
  },
  {
   "cell_type": "markdown",
   "metadata": {},
   "source": [
    "# Aggregation For Purposes of Visualization\n",
    "\n",
    "Here's where I'll throw together different aggregated exports of the raw data, so Tableau won't have a record at the individual voter level for everyone (which would be illegal to put on the Tableau Public server, or at the very least unethical)."
   ]
  },
  {
   "cell_type": "markdown",
   "metadata": {},
   "source": [
    "## First, some new fields\n",
    "\n",
    "As a result of earlier exploration in the data, I realized there are some useful fields I can calculate from what we already have in the data, so we'll do that first before attempting to aggregate things."
   ]
  },
  {
   "cell_type": "code",
   "execution_count": 9,
   "metadata": {
    "scrolled": true
   },
   "outputs": [],
   "source": [
    "#pandas Timedelta type uses days as its highest unit of measure, so need to divide by a year\n",
    "ONE_YEAR = pd.Timedelta(1,unit = 'Y')\n",
    "ELECTION_DAY = pd.to_datetime('11/6/18')\n",
    "\n",
    "voters['Age'] = round((ELECTION_DAY - voters['Date of Birth'])/ONE_YEAR, 0)"
   ]
  },
  {
   "cell_type": "code",
   "execution_count": 10,
   "metadata": {},
   "outputs": [],
   "source": [
    "voters['Age at Registration'] = round((voters['EDR'] - voters['Date of Birth'])/ONE_YEAR, 0)"
   ]
  },
  {
   "cell_type": "code",
   "execution_count": 11,
   "metadata": {},
   "outputs": [],
   "source": [
    "#Don't need DOB now that we have election year age\n",
    "voters.drop(columns = ['Date of Birth'], inplace = True)\n",
    "voters.rename({'Age': 'Election Day Age'}, inplace = True)"
   ]
  },
  {
   "cell_type": "code",
   "execution_count": 12,
   "metadata": {},
   "outputs": [],
   "source": [
    "def get_year(value):\n",
    "    '''\n",
    "    Meant to be used via apply() method on a pandas Series.\n",
    "    Returns the year from a pandas Timestamp value\n",
    "    '''\n",
    "    \n",
    "    if value: return value.year\n",
    "    else: return value"
   ]
  },
  {
   "cell_type": "code",
   "execution_count": 13,
   "metadata": {},
   "outputs": [
    {
     "data": {
      "text/plain": [
       "count    1.553161e+07\n",
       "mean     2.005551e+03\n",
       "std      1.150199e+01\n",
       "min      1.900000e+03\n",
       "25%      1.999000e+03\n",
       "50%      2.009000e+03\n",
       "75%      2.015000e+03\n",
       "max      2.201000e+03\n",
       "Name: Registration Year, dtype: float64"
      ]
     },
     "execution_count": 13,
     "metadata": {},
     "output_type": "execute_result"
    }
   ],
   "source": [
    "voters['Registration Year'] = voters['EDR'].apply(get_year)\n",
    "voters['Registration Year'].describe()"
   ]
  },
  {
   "cell_type": "code",
   "execution_count": 14,
   "metadata": {},
   "outputs": [],
   "source": [
    "voters.drop(columns = ['EDR'], inplace = True)"
   ]
  },
  {
   "cell_type": "code",
   "execution_count": 15,
   "metadata": {},
   "outputs": [
    {
     "name": "stdout",
     "output_type": "stream",
     "text": [
      "<class 'pandas.core.frame.DataFrame'>\n",
      "Int64Index: 15531645 entries, 0 to 15531644\n",
      "Data columns (total 10 columns):\n",
      "Gender                       category\n",
      "Perm ZIP Code                category\n",
      "Mailing ZIP Code             category\n",
      "Status Code                  category\n",
      "Precinct ID                  float32\n",
      "US Congressional District    float32\n",
      "_merge                       category\n",
      "Age                          float64\n",
      "Age at Registration          float64\n",
      "Registration Year            float64\n",
      "dtypes: category(5), float32(2), float64(3)\n",
      "memory usage: 729.3 MB\n"
     ]
    }
   ],
   "source": [
    "voters.info(memory_usage = 'deep')"
   ]
  },
  {
   "cell_type": "code",
   "execution_count": 16,
   "metadata": {},
   "outputs": [
    {
     "data": {
      "text/plain": [
       "Index(['Gender', 'Perm ZIP Code', 'Mailing ZIP Code', 'Status Code',\n",
       "       'Precinct ID', 'US Congressional District', '_merge', 'Age',\n",
       "       'Age at Registration', 'Registration Year'],\n",
       "      dtype='object')"
      ]
     },
     "execution_count": 16,
     "metadata": {},
     "output_type": "execute_result"
    }
   ],
   "source": [
    "voters.columns"
   ]
  },
  {
   "cell_type": "code",
   "execution_count": null,
   "metadata": {
    "scrolled": true
   },
   "outputs": [],
   "source": [
    "#Aggregation for EDR comparisons\n",
    "group_EDR = voters.groupby(['Registration Year', 'Age at Registration']).count()\n",
    "group_EDR.to_csv('Data/Aggregated_Data/Counts_by_RegistrationYear.csv')"
   ]
  },
  {
   "cell_type": "code",
   "execution_count": null,
   "metadata": {},
   "outputs": [],
   "source": [
    "#AGG STRATEGY: COUNT by Mailing ZIP, USC District (decreasing number of levels per field)\n",
    "group_ZIPs_Mailing = voters.groupby(['Mailing ZIP Code', 'US Congressional District']).count()\n",
    "group_ZIPs_Mailing.to_csv('Data/Aggregated_Data/Counts_by_ZIP_Mailing.csv')"
   ]
  },
  {
   "cell_type": "code",
   "execution_count": null,
   "metadata": {},
   "outputs": [],
   "source": [
    "voters['Perm ZIP Code'].cat.categories"
   ]
  },
  {
   "cell_type": "code",
   "execution_count": null,
   "metadata": {},
   "outputs": [],
   "source": [
    "#AGG STRATEGY: COUNT by Perm ZIP, age, USC District, gender, status code (decreasing number of levels per field)\n",
    "group_ZIPs_Perm = voters.groupby(['Perm ZIP Code', 'Age', 'US Congressional District', 'Gender', \n",
    "                'Status Code']).count()\n",
    "group_ZIPs_Perm.to_csv('Data/Aggregated_Data/Counts_by_ZIP_Perm.csv')"
   ]
  },
  {
   "cell_type": "code",
   "execution_count": null,
   "metadata": {},
   "outputs": [],
   "source": [
    "#AGG STRATEGY: COUNT by Perm ZIP, age, USC District, gender, status code (decreasing number of levels per field)\n",
    "vdp.aggregate_data(voters, ['Perm ZIP Code', 'Age', 'US Congressional District', 'Gender',\n",
    "                            'Status Code'], 'Data/Aggregated_Data/Counts_by_ZIP_Perm.csv')"
   ]
  },
  {
   "cell_type": "code",
   "execution_count": null,
   "metadata": {},
   "outputs": [],
   "source": [
    "group_ZIPs_Perm.head()"
   ]
  },
  {
   "cell_type": "code",
   "execution_count": null,
   "metadata": {},
   "outputs": [],
   "source": [
    "group_ZIPs_Perm.index.get_level_values(0).dtype"
   ]
  },
  {
   "cell_type": "markdown",
   "metadata": {},
   "source": [
    "# Voter Counts by Different Geographic Resolutions\n",
    "\n",
    "1. By precinct\n",
    "2. By state house district\n",
    "3. By state senate district\n",
    "4. By US Congressional district"
   ]
  },
  {
   "cell_type": "markdown",
   "metadata": {},
   "source": [
    "# Analysis\n",
    "\n",
    "OK, time to get down to business! We've done a fair amount of auditing and cleaning, memory optimization, etc. and now we have a bunch of voter data with geographic resolutions. Time to do something cool with it."
   ]
  },
  {
   "cell_type": "markdown",
   "metadata": {},
   "source": [
    "## Standard Univariate Analysis\n",
    "1. Status Code\n",
    "2. Gender\n",
    "3. Age\n",
    "4. EDR\n",
    "5. Time between turning 18 and registering"
   ]
  },
  {
   "cell_type": "code",
   "execution_count": null,
   "metadata": {},
   "outputs": [],
   "source": [
    "def percent_breakdown(x, data):\n",
    "    '''\n",
    "    Returns a DataFrame that provides the raw counts and percentage of the total dataset \n",
    "    of unique values from a categorical column in a pandas DataFrame\n",
    "    \n",
    "    Parameters\n",
    "    ----------\n",
    "    x: str. Name of a categorical column in a DataFrame.\n",
    "    data: pandas DataFrame.\n",
    "    \n",
    "    Returns\n",
    "    ----------\n",
    "    pandas DataFrame.\n",
    "    '''\n",
    "    \n",
    "    return pd.DataFrame({'Raw Counts': data[x].value_counts(),\n",
    "                         'Percentage': data[x].value_counts()/len(data)})"
   ]
  },
  {
   "cell_type": "markdown",
   "metadata": {},
   "source": [
    "### Status Code"
   ]
  },
  {
   "cell_type": "code",
   "execution_count": null,
   "metadata": {},
   "outputs": [],
   "source": [
    "%matplotlib inline\n",
    "import matplotlib.pyplot as plt\n",
    "\n",
    "t0 = time()\n",
    "\n",
    "var = 'Status Code'\n",
    "sns.barplot(x=var, y=var, orient = 'v', ci = None, data=voters, estimator=lambda x: len(x) / len(voters) * 100)\n",
    "plt.ylabel(\"Percent\")\n",
    "plt.title(f\"{var} Distribution\")\n",
    "\n",
    "print(f\"Process completed in {round((time()-t0)/60, 2)} minutes\")"
   ]
  },
  {
   "cell_type": "code",
   "execution_count": null,
   "metadata": {},
   "outputs": [],
   "source": [
    "percent_breakdown('Status Code', voters)"
   ]
  },
  {
   "cell_type": "markdown",
   "metadata": {},
   "source": [
    "**Here we're seeing roughly 87% of the voters being designated as 'V' status AKA active registration.** I'm a little surprised to see that only 13% are Suspended and that there are none in the Cancelled category. That seems odd, but OK."
   ]
  },
  {
   "cell_type": "markdown",
   "metadata": {},
   "source": [
    "### Gender"
   ]
  },
  {
   "cell_type": "code",
   "execution_count": null,
   "metadata": {
    "scrolled": true
   },
   "outputs": [],
   "source": [
    "t0 = time()\n",
    "\n",
    "var = 'Gender'\n",
    "sns.barplot(x=var, y=var, orient = 'v', ci = None, data=voters, estimator=lambda x: len(x) / len(voters) * 100)\n",
    "plt.ylabel(\"Percent\")\n",
    "plt.title(f\"{var} Distribution\")\n",
    "\n",
    "print(f\"Process completed in {round((time()-t0)/60, 2)} minutes\")"
   ]
  },
  {
   "cell_type": "code",
   "execution_count": null,
   "metadata": {},
   "outputs": [],
   "source": [
    "percent_breakdown('Gender', voters)"
   ]
  },
  {
   "cell_type": "code",
   "execution_count": null,
   "metadata": {
    "scrolled": true
   },
   "outputs": [],
   "source": [
    "a = percent_breakdown('Gender', voters)\n",
    "a.loc['M','Percentage'] + a.loc['U','Percentage'] - a.loc['F','Percentage']"
   ]
  },
  {
   "cell_type": "markdown",
   "metadata": {},
   "source": [
    "**Interesting to note that the voter rolls are skewed vemale by about 6 percentage points.** Even if the Unspecified group were entirely male, females would still be 2.2 percentage points higher."
   ]
  },
  {
   "cell_type": "markdown",
   "metadata": {},
   "source": [
    "### Age"
   ]
  },
  {
   "cell_type": "code",
   "execution_count": null,
   "metadata": {},
   "outputs": [],
   "source": [
    "voters['Date of Birth'].dtype"
   ]
  },
  {
   "cell_type": "code",
   "execution_count": null,
   "metadata": {
    "scrolled": true
   },
   "outputs": [],
   "source": [
    "#pandas Timedelta type uses days as its highest unit of measure, so need to divide by a year\n",
    "ONE_YEAR = pd.Timedelta(1,unit = 'Y')\n",
    "ELECTION_DAY = pd.to_datetime('11/6/18')\n",
    "\n",
    "voters['Age'] = round((ELECTION_DAY - voters['Date of Birth'])/ONE_YEAR, 0)"
   ]
  },
  {
   "cell_type": "code",
   "execution_count": null,
   "metadata": {},
   "outputs": [],
   "source": [
    "voters['Age'].describe()"
   ]
  },
  {
   "cell_type": "code",
   "execution_count": null,
   "metadata": {},
   "outputs": [],
   "source": [
    "sns.distplot(voters['Age'].dropna())"
   ]
  },
  {
   "cell_type": "markdown",
   "metadata": {},
   "source": [
    "**Well this is somewhat improbable.** Given that [the oldest recorded age in the world was just shy of 123 years](https://en.wikipedia.org/wiki/List_of_the_verified_oldest_people), we can probably ignore values above that number as being false entries."
   ]
  },
  {
   "cell_type": "code",
   "execution_count": null,
   "metadata": {
    "scrolled": false
   },
   "outputs": [],
   "source": [
    "sns.distplot(voters[voters['Age'] > 123]['Age'], bins = 50)\n",
    "plt.title('Distribution of Ages for Improbable Age Groups')\n",
    "plt.xlim(xmin = 123)"
   ]
  },
  {
   "cell_type": "code",
   "execution_count": null,
   "metadata": {},
   "outputs": [],
   "source": [
    "voters[voters['Age'] > 123]['Age'].count()"
   ]
  },
  {
   "cell_type": "markdown",
   "metadata": {},
   "source": [
    "**Clearly, ignoring this group is not a big loss to the dataset,** especially given the small fraction of records they represent. While we're at it, let's also check in on anyone that is clearly under the age of the majority."
   ]
  },
  {
   "cell_type": "code",
   "execution_count": null,
   "metadata": {},
   "outputs": [],
   "source": [
    "voters[voters['Age'] < 18]['Age'].count()"
   ]
  },
  {
   "cell_type": "code",
   "execution_count": null,
   "metadata": {},
   "outputs": [],
   "source": [
    "sns.distplot(voters['Age'].dropna(), bins = 50)\n",
    "plt.title('Distribution of Ages for Probable Age Groups')\n",
    "plt.xlim(18,123)"
   ]
  },
  {
   "cell_type": "markdown",
   "metadata": {},
   "source": [
    "It looks like we're seeing a vaguely tri-modal distribution of ages, with peaks at roughly 30, 50, and 60."
   ]
  },
  {
   "cell_type": "markdown",
   "metadata": {},
   "source": [
    "### Effective Date of Registration (EDR)"
   ]
  },
  {
   "cell_type": "code",
   "execution_count": null,
   "metadata": {},
   "outputs": [],
   "source": [
    "def get_year(value):\n",
    "    '''\n",
    "    Meant to be used via apply() method on a pandas Series.\n",
    "    Returns the year from a pandas Timestamp value\n",
    "    '''\n",
    "    \n",
    "    if value: return value.year\n",
    "    else: return value"
   ]
  },
  {
   "cell_type": "code",
   "execution_count": null,
   "metadata": {},
   "outputs": [],
   "source": [
    "voters['EDR'].describe()"
   ]
  },
  {
   "cell_type": "markdown",
   "metadata": {},
   "source": [
    "**As before with DOB, we have some nonsense values.** Using again our oldest-person-in-the-world logic, I'll ignore anyone with an EDR earlier than 1913 (2018 - 123 + 18). Also, since it's currently 2018, we'll ignore anyone with an EDR after 2018."
   ]
  },
  {
   "cell_type": "code",
   "execution_count": null,
   "metadata": {},
   "outputs": [],
   "source": [
    "voters['Registration Year'] = voters['EDR'].apply(get_year)"
   ]
  },
  {
   "cell_type": "code",
   "execution_count": null,
   "metadata": {
    "scrolled": false
   },
   "outputs": [],
   "source": [
    "sns.distplot(voters['EDR - Year'].dropna(), kde = False)\n",
    "plt.xlim(1913,2018)"
   ]
  },
  {
   "cell_type": "code",
   "execution_count": null,
   "metadata": {
    "scrolled": true
   },
   "outputs": [],
   "source": [
    "#Import US Census data from tx.gov\n",
    "TX_pop = pd.read_csv('Data/TX_PopulationTrends.csv')\n",
    "TX_pop.rename(columns = {'Texas Population - Count': 'Count',\n",
    "                         'Texas Population - Estimate': 'Estimate',\n",
    "                        'YEAR': 'Year'}, inplace = True)\n",
    "TX_pop['Count'] = TX_pop['Count'].str.strip()\n",
    "TX_pop['Estimate'] = TX_pop['Estimate'].str.strip()"
   ]
  },
  {
   "cell_type": "code",
   "execution_count": null,
   "metadata": {
    "scrolled": true
   },
   "outputs": [],
   "source": [
    "TX_pop['Estimate'] = pd.to_numeric(TX_pop['Estimate'])\n",
    "TX_pop['Count'] = pd.to_numeric(TX_pop['Count'])\n",
    "TX_pop.dtypes"
   ]
  },
  {
   "cell_type": "code",
   "execution_count": null,
   "metadata": {
    "scrolled": false
   },
   "outputs": [],
   "source": [
    "plt.subplot(2,1,1)\n",
    "sns.lineplot(x = 'Year', y = 'Estimate', data = TX_pop)\n",
    "plt.xlim(1913,2018)\n",
    "plt.ylabel('TX Population \\nEstimate')\n",
    "\n",
    "plt.subplot(2,1,2)\n",
    "sns.distplot(voters['EDR - Year'].dropna(), kde = False)\n",
    "plt.xlim(1913,2018)\n",
    "plt.xlabel(\"Year\")\n",
    "plt.ylabel(\"Count of \\nVoter Registrations\")"
   ]
  },
  {
   "cell_type": "markdown",
   "metadata": {},
   "source": [
    "**This looks roughly similar in trend over the same time period.** At first I thought this growth in registrations was a little suspicious, but not anymore."
   ]
  },
  {
   "cell_type": "markdown",
   "metadata": {},
   "source": [
    "**It's interesting to note that more than 11% of the active voters with EDR dates in these records registered in 2016.** We can see spikes in registration every year that corresponds to a Presidential election, which isn't terribly surprising, but it is interesting to see how the registrations in each of those years appear to be growing non-linearly."
   ]
  },
  {
   "cell_type": "markdown",
   "metadata": {},
   "source": [
    "### Time Difference Between EDR and 18th Birthday"
   ]
  },
  {
   "cell_type": "code",
   "execution_count": null,
   "metadata": {},
   "outputs": [],
   "source": [
    "(voters.loc[0]['EDR'] - voters.loc[0]['Date of Birth'])/ONE_YEAR - 18"
   ]
  },
  {
   "cell_type": "code",
   "execution_count": null,
   "metadata": {},
   "outputs": [],
   "source": [
    "voters['18 to EDR Gap'] = (voters['EDR'] - voters['Date of Birth'])/ONE_YEAR - 18"
   ]
  },
  {
   "cell_type": "code",
   "execution_count": null,
   "metadata": {},
   "outputs": [],
   "source": [
    "voters['18 to EDR Gap'].describe()"
   ]
  },
  {
   "cell_type": "markdown",
   "metadata": {},
   "source": [
    "**Wow, really? We're seeing an average delay of 17.6 years between reaching 18 years old and registering to vote?** That's...a long time to wait. \n",
    "\n",
    "Although, to be fair, this is probably skewed due to people who moved into the state as an adult and thus couldn't have registered *in Texas* when they turned 18 because they didn't live there. Hmmm...this may not be as interesting of a variable as I'd hoped actually.\n"
   ]
  },
  {
   "cell_type": "code",
   "execution_count": null,
   "metadata": {},
   "outputs": [],
   "source": [
    "sns.distplot(voters['18 to EDR Gap'].dropna(), bins = 50, kde = False, norm_hist = True)\n",
    "plt.xlim(0, 105) #Can't be registered to vote before their 18th birthday, can't live past 123 (105 + 18)\n",
    "plt.xlabel(\"Years Between 18th Birthday \\nand Voter Registration\")"
   ]
  },
  {
   "cell_type": "markdown",
   "metadata": {},
   "source": [
    "**Perhaps unsurprisingly, the biggest bin is for those who registered to vote within 5 years of turning 18.** Even if you adjust this for the 2016 election, you see the same pattern (with a slightly higher perecentage in this youngest group than before)."
   ]
  },
  {
   "cell_type": "markdown",
   "metadata": {},
   "source": [
    "### EDRs Pre- and Post-2016 Election\n",
    "\n",
    "2016 General Election: 11/8/16"
   ]
  },
  {
   "cell_type": "code",
   "execution_count": null,
   "metadata": {},
   "outputs": [],
   "source": [
    "ELECTION_DAY_2016 = pd.Timestamp(year=2016, month=11, day=9, hour=0)\n",
    "voters['New Since 2016 Election'] = voters['EDR'] > ELECTION_DAY_2016"
   ]
  },
  {
   "cell_type": "code",
   "execution_count": null,
   "metadata": {},
   "outputs": [],
   "source": [
    "percent_breakdown('New Since 2016 Election', voters)"
   ]
  },
  {
   "cell_type": "code",
   "execution_count": null,
   "metadata": {
    "scrolled": true
   },
   "outputs": [],
   "source": [
    "var = 'New Since 2016 Election'\n",
    "sns.barplot(x=var, y=var, orient = 'v', ci = None, data=voters, estimator=lambda x: len(x) / len(voters) * 100)\n",
    "plt.ylabel(f\"Percent\")\n",
    "plt.title(f\"{var} Distribution\")"
   ]
  },
  {
   "cell_type": "markdown",
   "metadata": {},
   "source": [
    "**Interesting, 12% of the voting population has registered since the 2016 election.** Hard to say what this means for either party, but it's an interesting piece of info."
   ]
  },
  {
   "cell_type": "markdown",
   "metadata": {},
   "source": [
    "## Counts of Active Voter Registrations\n",
    "1. By Mailing address, aggregated by state/province/country\n",
    "1. By precinct\n",
    "1. By county\n",
    "    * If I want to do this, need to merge County Names data from tx-data repo first\n",
    "2. By state house district\n",
    "3. By state senate district\n",
    "4. By US Congressional district"
   ]
  },
  {
   "cell_type": "markdown",
   "metadata": {},
   "source": [
    "### Precinct\n",
    "\n",
    "We use the Permanent ZIP code values to geocode our voters and their Precinct IDs. Likely due to the fluid nature of ZIP codes, and a healthy dose of bad data when it comes these ZIP codes, we see a few \"precincts\" that are split geographically, outside the state of TX, and some precincts that have other precincts contained entirely within them. As such, these \"precincts\" should be viewed with mild skepticism. If something looks off about them, it likely is. Still, it is very likely that the vast majority of records are properly geolocated.\n",
    "\n",
    "If it's worthwhile for other users, I'd recommend pulling latitude and longitude data straight from something like the GoogleV3 geocoder accessible via the [GeoPy package](https://geopy.readthedocs.io). The Google geocoder is very high accuracy, but it now costs money to use. Given that there are more than 15.5M records in these voter rolls, to use this geocoder a volume sales contract would need to be worked up, as the pay-as-you-go monthly limits only go up to 500K requests. If we assume a roughly \\\\$3 USD per 1000 requests rate, it would cost $46,500 to get the latitude/longitude for all of these. Other cheaper options likely exist (e.g. OpenStreetMaps API Nominatim), but the accuracy of these is lower than Google's geocoder and thus unlikely to provide a significant gain in location accuracy."
   ]
  },
  {
   "cell_type": "markdown",
   "metadata": {},
   "source": [
    "### State House"
   ]
  },
  {
   "cell_type": "markdown",
   "metadata": {},
   "source": [
    "### State Senate"
   ]
  },
  {
   "cell_type": "markdown",
   "metadata": {},
   "source": [
    "### US Congressional District"
   ]
  },
  {
   "cell_type": "markdown",
   "metadata": {},
   "source": [
    "## *Fractions* of Active and Suspended Voter Registrations\n",
    "1. By precinct\n",
    "1. By county\n",
    "2. By state house district\n",
    "3. By state senate district\n",
    "4. By US Congressional district"
   ]
  },
  {
   "cell_type": "markdown",
   "metadata": {},
   "source": [
    "## Gender\n",
    "1. At different geo resolutions\n",
    "2. Subdivided by voter status"
   ]
  },
  {
   "cell_type": "markdown",
   "metadata": {},
   "source": [
    "## Age\n",
    "1. At different geo resolutions\n",
    "2. Subdivided by gender\n",
    "3. Subdivided by voter status"
   ]
  },
  {
   "cell_type": "markdown",
   "metadata": {},
   "source": [
    "## Length of Voting Tenure\n",
    "\n",
    "A potentially relevant measure of how many swing voters are expected is recency of their voter registration. People who are further from voting age (18 years old) who have recently registered (especially if the registration was after the last major US election, 11/8/2016) may want to \"make a difference\" with their vote: people upset with the outcomes from recent elections, or expecting to need to defend those outcomes, may have registered relatively recently to make their voices heard.\n",
    "\n",
    "1. Fraction of all voters at different binned amounts of time between when they registered and when they turned 18\n",
    "2. Fraction of all voters that registered since 11/8/2016\n",
    "    * Breakdown by gender\n",
    "    * Breakdown by age\n",
    "3. Breakdown of these by geography"
   ]
  },
  {
   "cell_type": "code",
   "execution_count": null,
   "metadata": {},
   "outputs": [],
   "source": [
    "#Push concatenated and processed voter data into a CSV file for later use\n",
    "voters.to_csv('Data/Full_Voter_Data_with_Geography.csv')"
   ]
  },
  {
   "cell_type": "code",
   "execution_count": null,
   "metadata": {},
   "outputs": [],
   "source": [
    "field_types = {'Gender': 'category',\n",
    "               'Perm ZIP Code': 'category',\n",
    "               'Mailing ZIP Code': 'category',\n",
    "               'Status Code': 'category',\n",
    "               'Precinct ID': 'float32',\n",
    "               'US Congressional District': 'float32',\n",
    "               '_merge': 'category',\n",
    "               'Age': 'float64',\n",
    "               'Age at Registration': 'float64',\n",
    "               'Registration Year': 'float64'}\n",
    "\n",
    "voters = pd.read_csv('Data/Full_Voter_Data_with_Geography.csv', dtype = field_types)\n",
    "voters.info(memory_usage = 'deep')"
   ]
  },
  {
   "cell_type": "code",
   "execution_count": null,
   "metadata": {},
   "outputs": [],
   "source": []
  },
  {
   "cell_type": "code",
   "execution_count": null,
   "metadata": {},
   "outputs": [],
   "source": []
  },
  {
   "cell_type": "code",
   "execution_count": null,
   "metadata": {},
   "outputs": [],
   "source": []
  },
  {
   "cell_type": "code",
   "execution_count": null,
   "metadata": {},
   "outputs": [],
   "source": []
  }
 ],
 "metadata": {
  "kernelspec": {
   "display_name": "Python [conda env:TXVoting]",
   "language": "python",
   "name": "conda-env-TXVoting-py"
  },
  "language_info": {
   "codemirror_mode": {
    "name": "ipython",
    "version": 3
   },
   "file_extension": ".py",
   "mimetype": "text/x-python",
   "name": "python",
   "nbconvert_exporter": "python",
   "pygments_lexer": "ipython3",
   "version": "3.6.6"
  }
 },
 "nbformat": 4,
 "nbformat_minor": 2
}
